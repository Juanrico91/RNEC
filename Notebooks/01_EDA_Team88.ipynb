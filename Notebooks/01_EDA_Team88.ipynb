{
  "nbformat": 4,
  "nbformat_minor": 0,
  "metadata": {
    "colab": {
      "name": "Back_end_V_2_0 (3).ipynb",
      "provenance": [],
      "collapsed_sections": [],
      "toc_visible": true
    },
    "kernelspec": {
      "name": "python3",
      "display_name": "Python 3"
    }
  },
  "cells": [
    {
      "cell_type": "markdown",
      "metadata": {
        "id": "cm-A6N_04cjy"
      },
      "source": [
        "# **Back-end**\n",
        "\n",
        "\n",
        "\n",
        "---\n",
        "\n",
        "\n",
        "\n"
      ]
    },
    {
      "cell_type": "markdown",
      "metadata": {
        "id": "QA3N_8l64M_J"
      },
      "source": [
        "This notebook will produce the Data needed to plot in the first version of the Back-End."
      ]
    },
    {
      "cell_type": "code",
      "metadata": {
        "id": "wflCogUHGUTk",
        "outputId": "846b5b1f-4b9d-4847-81b8-82cb1fe5edc1",
        "colab": {
          "base_uri": "https://localhost:8080/"
        }
      },
      "source": [
        "from google.colab import drive\n",
        "drive.mount('/content/drive')"
      ],
      "execution_count": null,
      "outputs": [
        {
          "output_type": "stream",
          "text": [
            "Drive already mounted at /content/drive; to attempt to forcibly remount, call drive.mount(\"/content/drive\", force_remount=True).\n"
          ],
          "name": "stdout"
        }
      ]
    },
    {
      "cell_type": "code",
      "metadata": {
        "id": "zbuHdBMARxxj"
      },
      "source": [
        "# Importing all the required packages\n",
        "\n",
        "import matplotlib.pyplot as plt\n",
        "import numpy as np\n",
        "import pandas as pd\n",
        "import scipy\n",
        "import seaborn as sns\n",
        "import sklearn\n",
        "\n",
        "from scipy.stats import norm\n",
        "from sklearn.cluster import KMeans\n",
        "from sklearn.preprocessing import MinMaxScaler, MaxAbsScaler, RobustScaler, StandardScaler\n",
        "from statsmodels.tsa.arima_model import ARIMA\n",
        "from statsmodels.tsa.stattools import adfuller\n",
        "from statsmodels.graphics.tsaplots import plot_acf, plot_pacf\n",
        "\n",
        "%matplotlib inline"
      ],
      "execution_count": null,
      "outputs": []
    },
    {
      "cell_type": "code",
      "metadata": {
        "id": "YHPioqLp5IBY",
        "outputId": "2f537812-504e-4426-97f8-4796e9ab5b54",
        "colab": {
          "base_uri": "https://localhost:8080/",
          "height": 401
        }
      },
      "source": [
        "data_rnec = pd.read_csv('/content/drive/My Drive/DS4A_DB/rnec_v2.csv', encoding='latin1',sep=';')\n",
        "data_rnec.head(5)"
      ],
      "execution_count": null,
      "outputs": [
        {
          "output_type": "execute_result",
          "data": {
            "text/html": [
              "<div>\n",
              "<style scoped>\n",
              "    .dataframe tbody tr th:only-of-type {\n",
              "        vertical-align: middle;\n",
              "    }\n",
              "\n",
              "    .dataframe tbody tr th {\n",
              "        vertical-align: top;\n",
              "    }\n",
              "\n",
              "    .dataframe thead th {\n",
              "        text-align: right;\n",
              "    }\n",
              "</style>\n",
              "<table border=\"1\" class=\"dataframe\">\n",
              "  <thead>\n",
              "    <tr style=\"text-align: right;\">\n",
              "      <th></th>\n",
              "      <th>id_data</th>\n",
              "      <th>fecha_recepcion</th>\n",
              "      <th>id_macroproceso</th>\n",
              "      <th>id_estado_radicado</th>\n",
              "      <th>id_unidad_administrativa</th>\n",
              "      <th>id_anotacion</th>\n",
              "      <th>id_departamento_rnec</th>\n",
              "      <th>id_traslado</th>\n",
              "      <th>id_departamento</th>\n",
              "      <th>id_estado_pqrs</th>\n",
              "      <th>fecha_cierre</th>\n",
              "      <th>dias</th>\n",
              "      <th>dias_laborales</th>\n",
              "      <th>id_fuente_general</th>\n",
              "      <th>id_medio</th>\n",
              "      <th>id_canal</th>\n",
              "      <th>id_municipio</th>\n",
              "      <th>id_nivel</th>\n",
              "      <th>id_oportunidad_cierre</th>\n",
              "      <th>id_oportunidad_tratamiento</th>\n",
              "      <th>cod_iso3</th>\n",
              "      <th>id_sexo</th>\n",
              "      <th>id_tipo_solicitud</th>\n",
              "      <th>id_tipo_identificacion</th>\n",
              "      <th>asunto</th>\n",
              "      <th>Reception_month</th>\n",
              "    </tr>\n",
              "  </thead>\n",
              "  <tbody>\n",
              "    <tr>\n",
              "      <th>0</th>\n",
              "      <td>1</td>\n",
              "      <td>10/01/2019</td>\n",
              "      <td>3</td>\n",
              "      <td>2</td>\n",
              "      <td>2</td>\n",
              "      <td>0</td>\n",
              "      <td>91</td>\n",
              "      <td>0</td>\n",
              "      <td>91</td>\n",
              "      <td>3</td>\n",
              "      <td>14/01/2019</td>\n",
              "      <td>4</td>\n",
              "      <td>3</td>\n",
              "      <td>1</td>\n",
              "      <td>5</td>\n",
              "      <td>2</td>\n",
              "      <td>0</td>\n",
              "      <td>1</td>\n",
              "      <td>1</td>\n",
              "      <td>2</td>\n",
              "      <td>COL</td>\n",
              "      <td>0</td>\n",
              "      <td>1</td>\n",
              "      <td>3</td>\n",
              "      <td>P. - I.D. - T.I. - Agendamiento</td>\n",
              "      <td>1</td>\n",
              "    </tr>\n",
              "    <tr>\n",
              "      <th>1</th>\n",
              "      <td>2</td>\n",
              "      <td>22/01/2019</td>\n",
              "      <td>3</td>\n",
              "      <td>2</td>\n",
              "      <td>2</td>\n",
              "      <td>0</td>\n",
              "      <td>91</td>\n",
              "      <td>0</td>\n",
              "      <td>91</td>\n",
              "      <td>3</td>\n",
              "      <td>25/01/2019</td>\n",
              "      <td>3</td>\n",
              "      <td>4</td>\n",
              "      <td>1</td>\n",
              "      <td>5</td>\n",
              "      <td>2</td>\n",
              "      <td>0</td>\n",
              "      <td>1</td>\n",
              "      <td>1</td>\n",
              "      <td>2</td>\n",
              "      <td>COL</td>\n",
              "      <td>0</td>\n",
              "      <td>1</td>\n",
              "      <td>1</td>\n",
              "      <td>P. - I.D. - C.C. -  Traslado.</td>\n",
              "      <td>1</td>\n",
              "    </tr>\n",
              "    <tr>\n",
              "      <th>2</th>\n",
              "      <td>3</td>\n",
              "      <td>23/01/2019</td>\n",
              "      <td>3</td>\n",
              "      <td>2</td>\n",
              "      <td>2</td>\n",
              "      <td>0</td>\n",
              "      <td>91</td>\n",
              "      <td>481</td>\n",
              "      <td>91</td>\n",
              "      <td>3</td>\n",
              "      <td>25/01/2019</td>\n",
              "      <td>2</td>\n",
              "      <td>3</td>\n",
              "      <td>1</td>\n",
              "      <td>5</td>\n",
              "      <td>2</td>\n",
              "      <td>0</td>\n",
              "      <td>1</td>\n",
              "      <td>1</td>\n",
              "      <td>2</td>\n",
              "      <td>COL</td>\n",
              "      <td>0</td>\n",
              "      <td>9</td>\n",
              "      <td>1</td>\n",
              "      <td>P. - I.D. - C.C. - Cancelaciones.</td>\n",
              "      <td>1</td>\n",
              "    </tr>\n",
              "    <tr>\n",
              "      <th>3</th>\n",
              "      <td>4</td>\n",
              "      <td>25/01/2019</td>\n",
              "      <td>4</td>\n",
              "      <td>2</td>\n",
              "      <td>2</td>\n",
              "      <td>0</td>\n",
              "      <td>91</td>\n",
              "      <td>0</td>\n",
              "      <td>91</td>\n",
              "      <td>3</td>\n",
              "      <td>30/01/2019</td>\n",
              "      <td>5</td>\n",
              "      <td>4</td>\n",
              "      <td>1</td>\n",
              "      <td>5</td>\n",
              "      <td>2</td>\n",
              "      <td>0</td>\n",
              "      <td>1</td>\n",
              "      <td>1</td>\n",
              "      <td>2</td>\n",
              "      <td>COL</td>\n",
              "      <td>0</td>\n",
              "      <td>6</td>\n",
              "      <td>1</td>\n",
              "      <td>Q. -Por atencion irrespetuosa del servidor pub...</td>\n",
              "      <td>1</td>\n",
              "    </tr>\n",
              "    <tr>\n",
              "      <th>4</th>\n",
              "      <td>5</td>\n",
              "      <td>25/01/2019</td>\n",
              "      <td>4</td>\n",
              "      <td>2</td>\n",
              "      <td>2</td>\n",
              "      <td>0</td>\n",
              "      <td>91</td>\n",
              "      <td>0</td>\n",
              "      <td>91</td>\n",
              "      <td>3</td>\n",
              "      <td>30/01/2019</td>\n",
              "      <td>5</td>\n",
              "      <td>4</td>\n",
              "      <td>1</td>\n",
              "      <td>5</td>\n",
              "      <td>2</td>\n",
              "      <td>0</td>\n",
              "      <td>1</td>\n",
              "      <td>1</td>\n",
              "      <td>2</td>\n",
              "      <td>COL</td>\n",
              "      <td>0</td>\n",
              "      <td>6</td>\n",
              "      <td>1</td>\n",
              "      <td>Q. -Por atencion irrespetuosa del servidor pub...</td>\n",
              "      <td>1</td>\n",
              "    </tr>\n",
              "  </tbody>\n",
              "</table>\n",
              "</div>"
            ],
            "text/plain": [
              "   id_data  ... Reception_month\n",
              "0        1  ...               1\n",
              "1        2  ...               1\n",
              "2        3  ...               1\n",
              "3        4  ...               1\n",
              "4        5  ...               1\n",
              "\n",
              "[5 rows x 26 columns]"
            ]
          },
          "metadata": {
            "tags": []
          },
          "execution_count": 40
        }
      ]
    },
    {
      "cell_type": "markdown",
      "metadata": {
        "id": "WLw8w0-dy-4Q"
      },
      "source": [
        "## Removing data with no closed date."
      ]
    },
    {
      "cell_type": "code",
      "metadata": {
        "id": "9m-Vf667h1kt",
        "outputId": "6fbb7571-f42f-4b41-9bad-5bf1a2a33a39",
        "colab": {
          "base_uri": "https://localhost:8080/"
        }
      },
      "source": [
        "\n",
        "data_rnec_aux=data_rnec[data_rnec['fecha_cierre']!='30/01/2020']\n",
        "data_rnec_aux.shape"
      ],
      "execution_count": null,
      "outputs": [
        {
          "output_type": "execute_result",
          "data": {
            "text/plain": [
              "(201918, 26)"
            ]
          },
          "metadata": {
            "tags": []
          },
          "execution_count": 42
        }
      ]
    },
    {
      "cell_type": "code",
      "metadata": {
        "id": "LemOdoiLduy2",
        "outputId": "3e7b9614-e9b7-4db9-86a5-087e44c80f68",
        "colab": {
          "base_uri": "https://localhost:8080/"
        }
      },
      "source": [
        "data_rnec.shape"
      ],
      "execution_count": null,
      "outputs": [
        {
          "output_type": "execute_result",
          "data": {
            "text/plain": [
              "(217675, 26)"
            ]
          },
          "metadata": {
            "tags": []
          },
          "execution_count": 41
        }
      ]
    },
    {
      "cell_type": "markdown",
      "metadata": {
        "id": "B_Y_vJISCJ6c"
      },
      "source": [
        "#**Exploratory Data Analysis (EDA)**\n",
        "\n",
        "\n",
        "\n",
        "\n"
      ]
    },
    {
      "cell_type": "markdown",
      "metadata": {
        "id": "3rpUTGtSBJ_1"
      },
      "source": [
        "Now we are going to change some values which are errors to the value: \"\""
      ]
    },
    {
      "cell_type": "code",
      "metadata": {
        "id": "pe6Co5aqBU9i"
      },
      "source": [
        "#data_rnec['fec_defin_cierre']=data_rnec['fec_defin_cierre'].replace(['PeticiÃ³n Abierta','Sin fecha de cierre','En trÃ¡mite de respuesta', 'Dato no reportado','Inconsistencia','En trÃ¡mite de respuesta','En trÃ¡mite de respuesta '], '')\n",
        "#data_rnec['fec_defin_cierre']=data_rnec['fec_defin_cierre'].replace(['Petición Abierta','En trámite de respuesta','En trámite de respuesta ',''],'')"
      ],
      "execution_count": null,
      "outputs": []
    },
    {
      "cell_type": "code",
      "metadata": {
        "id": "t83CAiGZBpjh"
      },
      "source": [
        "#data_rnec['fecha_cierre'].unique()"
      ],
      "execution_count": null,
      "outputs": []
    },
    {
      "cell_type": "markdown",
      "metadata": {
        "id": "9yUo1EmQD6tt"
      },
      "source": [
        "Now is the time to compute the time of service for the pqrs"
      ]
    },
    {
      "cell_type": "code",
      "metadata": {
        "id": "pM6voLm5ECrQ",
        "outputId": "450fe4b3-7ec4-4989-f25b-9f89810e955c",
        "colab": {
          "base_uri": "https://localhost:8080/",
          "height": 507
        }
      },
      "source": [
        "data_rnec_aux['Service_time_days']=data_rnec['dias']\n",
        "data_rnec_aux.head(5)"
      ],
      "execution_count": null,
      "outputs": [
        {
          "output_type": "stream",
          "text": [
            "/usr/local/lib/python3.6/dist-packages/ipykernel_launcher.py:1: SettingWithCopyWarning: \n",
            "A value is trying to be set on a copy of a slice from a DataFrame.\n",
            "Try using .loc[row_indexer,col_indexer] = value instead\n",
            "\n",
            "See the caveats in the documentation: https://pandas.pydata.org/pandas-docs/stable/user_guide/indexing.html#returning-a-view-versus-a-copy\n",
            "  \"\"\"Entry point for launching an IPython kernel.\n"
          ],
          "name": "stderr"
        },
        {
          "output_type": "execute_result",
          "data": {
            "text/html": [
              "<div>\n",
              "<style scoped>\n",
              "    .dataframe tbody tr th:only-of-type {\n",
              "        vertical-align: middle;\n",
              "    }\n",
              "\n",
              "    .dataframe tbody tr th {\n",
              "        vertical-align: top;\n",
              "    }\n",
              "\n",
              "    .dataframe thead th {\n",
              "        text-align: right;\n",
              "    }\n",
              "</style>\n",
              "<table border=\"1\" class=\"dataframe\">\n",
              "  <thead>\n",
              "    <tr style=\"text-align: right;\">\n",
              "      <th></th>\n",
              "      <th>id_data</th>\n",
              "      <th>fecha_recepcion</th>\n",
              "      <th>id_macroproceso</th>\n",
              "      <th>id_estado_radicado</th>\n",
              "      <th>id_unidad_administrativa</th>\n",
              "      <th>id_anotacion</th>\n",
              "      <th>id_departamento_rnec</th>\n",
              "      <th>id_traslado</th>\n",
              "      <th>id_departamento</th>\n",
              "      <th>id_estado_pqrs</th>\n",
              "      <th>fecha_cierre</th>\n",
              "      <th>dias</th>\n",
              "      <th>dias_laborales</th>\n",
              "      <th>id_fuente_general</th>\n",
              "      <th>id_medio</th>\n",
              "      <th>id_canal</th>\n",
              "      <th>id_municipio</th>\n",
              "      <th>id_nivel</th>\n",
              "      <th>id_oportunidad_cierre</th>\n",
              "      <th>id_oportunidad_tratamiento</th>\n",
              "      <th>cod_iso3</th>\n",
              "      <th>id_sexo</th>\n",
              "      <th>id_tipo_solicitud</th>\n",
              "      <th>id_tipo_identificacion</th>\n",
              "      <th>asunto</th>\n",
              "      <th>Reception_month</th>\n",
              "      <th>Service_time_days</th>\n",
              "    </tr>\n",
              "  </thead>\n",
              "  <tbody>\n",
              "    <tr>\n",
              "      <th>0</th>\n",
              "      <td>1</td>\n",
              "      <td>10/01/2019</td>\n",
              "      <td>3</td>\n",
              "      <td>2</td>\n",
              "      <td>2</td>\n",
              "      <td>0</td>\n",
              "      <td>91</td>\n",
              "      <td>0</td>\n",
              "      <td>91</td>\n",
              "      <td>3</td>\n",
              "      <td>14/01/2019</td>\n",
              "      <td>4</td>\n",
              "      <td>3</td>\n",
              "      <td>1</td>\n",
              "      <td>5</td>\n",
              "      <td>2</td>\n",
              "      <td>0</td>\n",
              "      <td>1</td>\n",
              "      <td>1</td>\n",
              "      <td>2</td>\n",
              "      <td>COL</td>\n",
              "      <td>0</td>\n",
              "      <td>1</td>\n",
              "      <td>3</td>\n",
              "      <td>P. - I.D. - T.I. - Agendamiento</td>\n",
              "      <td>1</td>\n",
              "      <td>4</td>\n",
              "    </tr>\n",
              "    <tr>\n",
              "      <th>1</th>\n",
              "      <td>2</td>\n",
              "      <td>22/01/2019</td>\n",
              "      <td>3</td>\n",
              "      <td>2</td>\n",
              "      <td>2</td>\n",
              "      <td>0</td>\n",
              "      <td>91</td>\n",
              "      <td>0</td>\n",
              "      <td>91</td>\n",
              "      <td>3</td>\n",
              "      <td>25/01/2019</td>\n",
              "      <td>3</td>\n",
              "      <td>4</td>\n",
              "      <td>1</td>\n",
              "      <td>5</td>\n",
              "      <td>2</td>\n",
              "      <td>0</td>\n",
              "      <td>1</td>\n",
              "      <td>1</td>\n",
              "      <td>2</td>\n",
              "      <td>COL</td>\n",
              "      <td>0</td>\n",
              "      <td>1</td>\n",
              "      <td>1</td>\n",
              "      <td>P. - I.D. - C.C. -  Traslado.</td>\n",
              "      <td>1</td>\n",
              "      <td>3</td>\n",
              "    </tr>\n",
              "    <tr>\n",
              "      <th>2</th>\n",
              "      <td>3</td>\n",
              "      <td>23/01/2019</td>\n",
              "      <td>3</td>\n",
              "      <td>2</td>\n",
              "      <td>2</td>\n",
              "      <td>0</td>\n",
              "      <td>91</td>\n",
              "      <td>481</td>\n",
              "      <td>91</td>\n",
              "      <td>3</td>\n",
              "      <td>25/01/2019</td>\n",
              "      <td>2</td>\n",
              "      <td>3</td>\n",
              "      <td>1</td>\n",
              "      <td>5</td>\n",
              "      <td>2</td>\n",
              "      <td>0</td>\n",
              "      <td>1</td>\n",
              "      <td>1</td>\n",
              "      <td>2</td>\n",
              "      <td>COL</td>\n",
              "      <td>0</td>\n",
              "      <td>9</td>\n",
              "      <td>1</td>\n",
              "      <td>P. - I.D. - C.C. - Cancelaciones.</td>\n",
              "      <td>1</td>\n",
              "      <td>2</td>\n",
              "    </tr>\n",
              "    <tr>\n",
              "      <th>3</th>\n",
              "      <td>4</td>\n",
              "      <td>25/01/2019</td>\n",
              "      <td>4</td>\n",
              "      <td>2</td>\n",
              "      <td>2</td>\n",
              "      <td>0</td>\n",
              "      <td>91</td>\n",
              "      <td>0</td>\n",
              "      <td>91</td>\n",
              "      <td>3</td>\n",
              "      <td>30/01/2019</td>\n",
              "      <td>5</td>\n",
              "      <td>4</td>\n",
              "      <td>1</td>\n",
              "      <td>5</td>\n",
              "      <td>2</td>\n",
              "      <td>0</td>\n",
              "      <td>1</td>\n",
              "      <td>1</td>\n",
              "      <td>2</td>\n",
              "      <td>COL</td>\n",
              "      <td>0</td>\n",
              "      <td>6</td>\n",
              "      <td>1</td>\n",
              "      <td>Q. -Por atencion irrespetuosa del servidor pub...</td>\n",
              "      <td>1</td>\n",
              "      <td>5</td>\n",
              "    </tr>\n",
              "    <tr>\n",
              "      <th>4</th>\n",
              "      <td>5</td>\n",
              "      <td>25/01/2019</td>\n",
              "      <td>4</td>\n",
              "      <td>2</td>\n",
              "      <td>2</td>\n",
              "      <td>0</td>\n",
              "      <td>91</td>\n",
              "      <td>0</td>\n",
              "      <td>91</td>\n",
              "      <td>3</td>\n",
              "      <td>30/01/2019</td>\n",
              "      <td>5</td>\n",
              "      <td>4</td>\n",
              "      <td>1</td>\n",
              "      <td>5</td>\n",
              "      <td>2</td>\n",
              "      <td>0</td>\n",
              "      <td>1</td>\n",
              "      <td>1</td>\n",
              "      <td>2</td>\n",
              "      <td>COL</td>\n",
              "      <td>0</td>\n",
              "      <td>6</td>\n",
              "      <td>1</td>\n",
              "      <td>Q. -Por atencion irrespetuosa del servidor pub...</td>\n",
              "      <td>1</td>\n",
              "      <td>5</td>\n",
              "    </tr>\n",
              "  </tbody>\n",
              "</table>\n",
              "</div>"
            ],
            "text/plain": [
              "   id_data fecha_recepcion  ...  Reception_month  Service_time_days\n",
              "0        1      10/01/2019  ...                1                  4\n",
              "1        2      22/01/2019  ...                1                  3\n",
              "2        3      23/01/2019  ...                1                  2\n",
              "3        4      25/01/2019  ...                1                  5\n",
              "4        5      25/01/2019  ...                1                  5\n",
              "\n",
              "[5 rows x 27 columns]"
            ]
          },
          "metadata": {
            "tags": []
          },
          "execution_count": 44
        }
      ]
    },
    {
      "cell_type": "markdown",
      "metadata": {
        "id": "3nHbz4BTE0do"
      },
      "source": [
        "There are some values which are negative, that has no sense for our analysis in this stage so we will only consider the times greater 0"
      ]
    },
    {
      "cell_type": "code",
      "metadata": {
        "id": "LRiY2u8rFE41",
        "outputId": "78201f45-8d39-4d58-f53b-e5fa4590f41f",
        "colab": {
          "base_uri": "https://localhost:8080/",
          "height": 401
        }
      },
      "source": [
        "df_servicio=data_rnec_aux[data_rnec_aux['Service_time_days']>=0]\n",
        "#df_servicio['fecha_recepcion']= pd.to_datetime(df_servicio['fecha_recepcion'])\n",
        "#df_servicio['Reception_month']=df_servicio['fecha_recepcion'].dt.month\n",
        "df_servicio.head()"
      ],
      "execution_count": null,
      "outputs": [
        {
          "output_type": "execute_result",
          "data": {
            "text/html": [
              "<div>\n",
              "<style scoped>\n",
              "    .dataframe tbody tr th:only-of-type {\n",
              "        vertical-align: middle;\n",
              "    }\n",
              "\n",
              "    .dataframe tbody tr th {\n",
              "        vertical-align: top;\n",
              "    }\n",
              "\n",
              "    .dataframe thead th {\n",
              "        text-align: right;\n",
              "    }\n",
              "</style>\n",
              "<table border=\"1\" class=\"dataframe\">\n",
              "  <thead>\n",
              "    <tr style=\"text-align: right;\">\n",
              "      <th></th>\n",
              "      <th>id_data</th>\n",
              "      <th>fecha_recepcion</th>\n",
              "      <th>id_macroproceso</th>\n",
              "      <th>id_estado_radicado</th>\n",
              "      <th>id_unidad_administrativa</th>\n",
              "      <th>id_anotacion</th>\n",
              "      <th>id_departamento_rnec</th>\n",
              "      <th>id_traslado</th>\n",
              "      <th>id_departamento</th>\n",
              "      <th>id_estado_pqrs</th>\n",
              "      <th>fecha_cierre</th>\n",
              "      <th>dias</th>\n",
              "      <th>dias_laborales</th>\n",
              "      <th>id_fuente_general</th>\n",
              "      <th>id_medio</th>\n",
              "      <th>id_canal</th>\n",
              "      <th>id_municipio</th>\n",
              "      <th>id_nivel</th>\n",
              "      <th>id_oportunidad_cierre</th>\n",
              "      <th>id_oportunidad_tratamiento</th>\n",
              "      <th>cod_iso3</th>\n",
              "      <th>id_sexo</th>\n",
              "      <th>id_tipo_solicitud</th>\n",
              "      <th>id_tipo_identificacion</th>\n",
              "      <th>asunto</th>\n",
              "      <th>Reception_month</th>\n",
              "      <th>Service_time_days</th>\n",
              "    </tr>\n",
              "  </thead>\n",
              "  <tbody>\n",
              "    <tr>\n",
              "      <th>0</th>\n",
              "      <td>1</td>\n",
              "      <td>10/01/2019</td>\n",
              "      <td>3</td>\n",
              "      <td>2</td>\n",
              "      <td>2</td>\n",
              "      <td>0</td>\n",
              "      <td>91</td>\n",
              "      <td>0</td>\n",
              "      <td>91</td>\n",
              "      <td>3</td>\n",
              "      <td>14/01/2019</td>\n",
              "      <td>4</td>\n",
              "      <td>3</td>\n",
              "      <td>1</td>\n",
              "      <td>5</td>\n",
              "      <td>2</td>\n",
              "      <td>0</td>\n",
              "      <td>1</td>\n",
              "      <td>1</td>\n",
              "      <td>2</td>\n",
              "      <td>COL</td>\n",
              "      <td>0</td>\n",
              "      <td>1</td>\n",
              "      <td>3</td>\n",
              "      <td>P. - I.D. - T.I. - Agendamiento</td>\n",
              "      <td>1</td>\n",
              "      <td>4</td>\n",
              "    </tr>\n",
              "    <tr>\n",
              "      <th>1</th>\n",
              "      <td>2</td>\n",
              "      <td>22/01/2019</td>\n",
              "      <td>3</td>\n",
              "      <td>2</td>\n",
              "      <td>2</td>\n",
              "      <td>0</td>\n",
              "      <td>91</td>\n",
              "      <td>0</td>\n",
              "      <td>91</td>\n",
              "      <td>3</td>\n",
              "      <td>25/01/2019</td>\n",
              "      <td>3</td>\n",
              "      <td>4</td>\n",
              "      <td>1</td>\n",
              "      <td>5</td>\n",
              "      <td>2</td>\n",
              "      <td>0</td>\n",
              "      <td>1</td>\n",
              "      <td>1</td>\n",
              "      <td>2</td>\n",
              "      <td>COL</td>\n",
              "      <td>0</td>\n",
              "      <td>1</td>\n",
              "      <td>1</td>\n",
              "      <td>P. - I.D. - C.C. -  Traslado.</td>\n",
              "      <td>1</td>\n",
              "      <td>3</td>\n",
              "    </tr>\n",
              "    <tr>\n",
              "      <th>2</th>\n",
              "      <td>3</td>\n",
              "      <td>23/01/2019</td>\n",
              "      <td>3</td>\n",
              "      <td>2</td>\n",
              "      <td>2</td>\n",
              "      <td>0</td>\n",
              "      <td>91</td>\n",
              "      <td>481</td>\n",
              "      <td>91</td>\n",
              "      <td>3</td>\n",
              "      <td>25/01/2019</td>\n",
              "      <td>2</td>\n",
              "      <td>3</td>\n",
              "      <td>1</td>\n",
              "      <td>5</td>\n",
              "      <td>2</td>\n",
              "      <td>0</td>\n",
              "      <td>1</td>\n",
              "      <td>1</td>\n",
              "      <td>2</td>\n",
              "      <td>COL</td>\n",
              "      <td>0</td>\n",
              "      <td>9</td>\n",
              "      <td>1</td>\n",
              "      <td>P. - I.D. - C.C. - Cancelaciones.</td>\n",
              "      <td>1</td>\n",
              "      <td>2</td>\n",
              "    </tr>\n",
              "    <tr>\n",
              "      <th>3</th>\n",
              "      <td>4</td>\n",
              "      <td>25/01/2019</td>\n",
              "      <td>4</td>\n",
              "      <td>2</td>\n",
              "      <td>2</td>\n",
              "      <td>0</td>\n",
              "      <td>91</td>\n",
              "      <td>0</td>\n",
              "      <td>91</td>\n",
              "      <td>3</td>\n",
              "      <td>30/01/2019</td>\n",
              "      <td>5</td>\n",
              "      <td>4</td>\n",
              "      <td>1</td>\n",
              "      <td>5</td>\n",
              "      <td>2</td>\n",
              "      <td>0</td>\n",
              "      <td>1</td>\n",
              "      <td>1</td>\n",
              "      <td>2</td>\n",
              "      <td>COL</td>\n",
              "      <td>0</td>\n",
              "      <td>6</td>\n",
              "      <td>1</td>\n",
              "      <td>Q. -Por atencion irrespetuosa del servidor pub...</td>\n",
              "      <td>1</td>\n",
              "      <td>5</td>\n",
              "    </tr>\n",
              "    <tr>\n",
              "      <th>4</th>\n",
              "      <td>5</td>\n",
              "      <td>25/01/2019</td>\n",
              "      <td>4</td>\n",
              "      <td>2</td>\n",
              "      <td>2</td>\n",
              "      <td>0</td>\n",
              "      <td>91</td>\n",
              "      <td>0</td>\n",
              "      <td>91</td>\n",
              "      <td>3</td>\n",
              "      <td>30/01/2019</td>\n",
              "      <td>5</td>\n",
              "      <td>4</td>\n",
              "      <td>1</td>\n",
              "      <td>5</td>\n",
              "      <td>2</td>\n",
              "      <td>0</td>\n",
              "      <td>1</td>\n",
              "      <td>1</td>\n",
              "      <td>2</td>\n",
              "      <td>COL</td>\n",
              "      <td>0</td>\n",
              "      <td>6</td>\n",
              "      <td>1</td>\n",
              "      <td>Q. -Por atencion irrespetuosa del servidor pub...</td>\n",
              "      <td>1</td>\n",
              "      <td>5</td>\n",
              "    </tr>\n",
              "  </tbody>\n",
              "</table>\n",
              "</div>"
            ],
            "text/plain": [
              "   id_data fecha_recepcion  ...  Reception_month  Service_time_days\n",
              "0        1      10/01/2019  ...                1                  4\n",
              "1        2      22/01/2019  ...                1                  3\n",
              "2        3      23/01/2019  ...                1                  2\n",
              "3        4      25/01/2019  ...                1                  5\n",
              "4        5      25/01/2019  ...                1                  5\n",
              "\n",
              "[5 rows x 27 columns]"
            ]
          },
          "metadata": {
            "tags": []
          },
          "execution_count": 45
        }
      ]
    },
    {
      "cell_type": "code",
      "metadata": {
        "id": "i2EusmwQeaPW",
        "outputId": "c04344d3-f08a-4a41-d1c7-d1e02788af04",
        "colab": {
          "base_uri": "https://localhost:8080/"
        }
      },
      "source": [
        "df_servicio.shape"
      ],
      "execution_count": null,
      "outputs": [
        {
          "output_type": "execute_result",
          "data": {
            "text/plain": [
              "(201703, 27)"
            ]
          },
          "metadata": {
            "tags": []
          },
          "execution_count": 46
        }
      ]
    },
    {
      "cell_type": "markdown",
      "metadata": {
        "id": "r_g4TnWF4j0d"
      },
      "source": [
        "# <h2>1. Distribution of Service Time  </h2>"
      ]
    },
    {
      "cell_type": "markdown",
      "metadata": {
        "id": "j8VDnHZ6zXWm"
      },
      "source": [
        "## Creating distributions for the service of time for the different moths"
      ]
    },
    {
      "cell_type": "code",
      "metadata": {
        "id": "gZ4sDBJg4Xs3",
        "outputId": "bdc701ff-7e6e-4852-a6ee-b4a59365c55b",
        "colab": {
          "base_uri": "https://localhost:8080/",
          "height": 296
        }
      },
      "source": [
        "df_servicio['Service_time_days'][df_servicio.Reception_month == 1].hist(bins=30, alpha=0.5, label=\"January\")\n",
        "df_servicio['Service_time_days'][df_servicio.Reception_month == 2].hist(bins=30, alpha=0.5, label=\"Frebuary\")\n",
        "df_servicio['Service_time_days'][df_servicio.Reception_month == 3].hist(bins=30, alpha=0.5, label=\"Marz\")\n",
        "df_servicio['Service_time_days'][df_servicio.Reception_month == 4].hist(bins=30, alpha=0.5, label=\"Abril\")\n",
        "plt.xlabel(\"Time service \")\n",
        "plt.ylabel(\"Frecuency\")\n",
        "plt.legend()"
      ],
      "execution_count": null,
      "outputs": [
        {
          "output_type": "execute_result",
          "data": {
            "text/plain": [
              "<matplotlib.legend.Legend at 0x7f56d2311b38>"
            ]
          },
          "metadata": {
            "tags": []
          },
          "execution_count": 47
        },
        {
          "output_type": "display_data",
          "data": {
            "image/png": "[encoded data removed]",
            "text/plain": [
              "<Figure size 432x288 with 1 Axes>"
            ]
          },
          "metadata": {
            "tags": [],
            "needs_background": "light"
          }
        }
      ]
    },
    {
      "cell_type": "markdown",
      "metadata": {
        "id": "rt5oN9Zh8Pj6"
      },
      "source": [
        "## Creating distributions for the service of time for the most common channels of reception"
      ]
    },
    {
      "cell_type": "code",
      "metadata": {
        "id": "uV9xvSe18T_S",
        "outputId": "16faacef-f113-48b9-fee0-8f654760726c",
        "colab": {
          "base_uri": "https://localhost:8080/",
          "height": 296
        }
      },
      "source": [
        "df_servicio['Service_time_days'][df_servicio.id_canal == 1].hist(bins=30, alpha=0.5, label=\"Correo\")\n",
        "df_servicio['Service_time_days'][df_servicio.id_canal == 2].hist(bins=30, alpha=0.5, label=\"Virtual\")\n",
        "df_servicio['Service_time_days'][df_servicio.id_canal == 3].hist(bins=30, alpha=0.5, label=\"Fisico\")\n",
        "df_servicio['Service_time_days'][df_servicio.id_canal == 4].hist(bins=30, alpha=0.5, label=\"Telefonico\")\n",
        "plt.xlabel(\"Time service \")\n",
        "plt.ylabel(\"Frecuency\")\n",
        "plt.legend()"
      ],
      "execution_count": null,
      "outputs": [
        {
          "output_type": "execute_result",
          "data": {
            "text/plain": [
              "<matplotlib.legend.Legend at 0x7f56d1b4f710>"
            ]
          },
          "metadata": {
            "tags": []
          },
          "execution_count": 48
        },
        {
          "output_type": "display_data",
          "data": {
            "image/png": "[encoded data removed]",
            "text/plain": [
              "<Figure size 432x288 with 1 Axes>"
            ]
          },
          "metadata": {
            "tags": [],
            "needs_background": "light"
          }
        }
      ]
    },
    {
      "cell_type": "code",
      "metadata": {
        "id": "0ZSNqGWv7bWM"
      },
      "source": [
        ""
      ],
      "execution_count": null,
      "outputs": []
    },
    {
      "cell_type": "markdown",
      "metadata": {
        "id": "R0SFC_ZSCg1r"
      },
      "source": [
        "# <h2>2. Average of Service Time by Reception month of requests </h2>"
      ]
    },
    {
      "cell_type": "markdown",
      "metadata": {
        "id": "kq6xzWw3HYwl"
      },
      "source": [
        "We want to look how long is the average of the consumed time for the different months of the year in order to see if there is any trend on the time the RNEC spends every month"
      ]
    },
    {
      "cell_type": "code",
      "metadata": {
        "id": "zqRBLhqTEhtT",
        "outputId": "a87fb08c-e8a0-4dbb-99f3-5fd795762b98",
        "colab": {
          "base_uri": "https://localhost:8080/"
        }
      },
      "source": [
        "total_rows = df_servicio['Reception_month'].count()\n",
        "total_rows"
      ],
      "execution_count": null,
      "outputs": [
        {
          "output_type": "execute_result",
          "data": {
            "text/plain": [
              "201703"
            ]
          },
          "metadata": {
            "tags": []
          },
          "execution_count": 53
        }
      ]
    },
    {
      "cell_type": "code",
      "metadata": {
        "id": "2H1uzt3uIFTj",
        "outputId": "06c48395-8f94-48ab-e7e6-be8abf8a4b4a",
        "colab": {
          "base_uri": "https://localhost:8080/",
          "height": 407
        }
      },
      "source": [
        "total_rows = df_servicio['Reception_month'].count()\n",
        "df_serv_mes=df_servicio.groupby(['Reception_month']).agg({'Service_time_days':'mean'}).rename(columns={'Service_time_days':'Average of service time (days)'})\n",
        "df_serv_mes_count=df_servicio.groupby(['Reception_month']).agg({'Service_time_days':'count'}).rename(columns={'Service_time_days':'Total_requests'})\n",
        "df_serv_mes['Total_requests'] = df_serv_mes_count['Total_requests']\n",
        "df_serv_mes['Proportion']=((df_serv_mes_count['Total_requests']/total_rows)*100).round(2)\n",
        "df_serv_mes\n"
      ],
      "execution_count": null,
      "outputs": [
        {
          "output_type": "execute_result",
          "data": {
            "text/html": [
              "<div>\n",
              "<style scoped>\n",
              "    .dataframe tbody tr th:only-of-type {\n",
              "        vertical-align: middle;\n",
              "    }\n",
              "\n",
              "    .dataframe tbody tr th {\n",
              "        vertical-align: top;\n",
              "    }\n",
              "\n",
              "    .dataframe thead th {\n",
              "        text-align: right;\n",
              "    }\n",
              "</style>\n",
              "<table border=\"1\" class=\"dataframe\">\n",
              "  <thead>\n",
              "    <tr style=\"text-align: right;\">\n",
              "      <th></th>\n",
              "      <th>Average of service time (days)</th>\n",
              "      <th>Total_requests</th>\n",
              "      <th>Proportion</th>\n",
              "    </tr>\n",
              "    <tr>\n",
              "      <th>Reception_month</th>\n",
              "      <th></th>\n",
              "      <th></th>\n",
              "      <th></th>\n",
              "    </tr>\n",
              "  </thead>\n",
              "  <tbody>\n",
              "    <tr>\n",
              "      <th>1</th>\n",
              "      <td>6.727669</td>\n",
              "      <td>17185</td>\n",
              "      <td>8.52</td>\n",
              "    </tr>\n",
              "    <tr>\n",
              "      <th>2</th>\n",
              "      <td>7.039679</td>\n",
              "      <td>16810</td>\n",
              "      <td>8.33</td>\n",
              "    </tr>\n",
              "    <tr>\n",
              "      <th>3</th>\n",
              "      <td>5.154926</td>\n",
              "      <td>17460</td>\n",
              "      <td>8.66</td>\n",
              "    </tr>\n",
              "    <tr>\n",
              "      <th>4</th>\n",
              "      <td>6.969874</td>\n",
              "      <td>16962</td>\n",
              "      <td>8.41</td>\n",
              "    </tr>\n",
              "    <tr>\n",
              "      <th>5</th>\n",
              "      <td>5.836178</td>\n",
              "      <td>21206</td>\n",
              "      <td>10.51</td>\n",
              "    </tr>\n",
              "    <tr>\n",
              "      <th>6</th>\n",
              "      <td>6.471196</td>\n",
              "      <td>18869</td>\n",
              "      <td>9.35</td>\n",
              "    </tr>\n",
              "    <tr>\n",
              "      <th>7</th>\n",
              "      <td>6.581865</td>\n",
              "      <td>25420</td>\n",
              "      <td>12.60</td>\n",
              "    </tr>\n",
              "    <tr>\n",
              "      <th>8</th>\n",
              "      <td>5.290664</td>\n",
              "      <td>21530</td>\n",
              "      <td>10.67</td>\n",
              "    </tr>\n",
              "    <tr>\n",
              "      <th>9</th>\n",
              "      <td>2.968883</td>\n",
              "      <td>19700</td>\n",
              "      <td>9.77</td>\n",
              "    </tr>\n",
              "    <tr>\n",
              "      <th>10</th>\n",
              "      <td>5.603308</td>\n",
              "      <td>23401</td>\n",
              "      <td>11.60</td>\n",
              "    </tr>\n",
              "    <tr>\n",
              "      <th>11</th>\n",
              "      <td>1.868987</td>\n",
              "      <td>3160</td>\n",
              "      <td>1.57</td>\n",
              "    </tr>\n",
              "  </tbody>\n",
              "</table>\n",
              "</div>"
            ],
            "text/plain": [
              "                 Average of service time (days)  Total_requests  Proportion\n",
              "Reception_month                                                            \n",
              "1                                      6.727669           17185        8.52\n",
              "2                                      7.039679           16810        8.33\n",
              "3                                      5.154926           17460        8.66\n",
              "4                                      6.969874           16962        8.41\n",
              "5                                      5.836178           21206       10.51\n",
              "6                                      6.471196           18869        9.35\n",
              "7                                      6.581865           25420       12.60\n",
              "8                                      5.290664           21530       10.67\n",
              "9                                      2.968883           19700        9.77\n",
              "10                                     5.603308           23401       11.60\n",
              "11                                     1.868987            3160        1.57"
            ]
          },
          "metadata": {
            "tags": []
          },
          "execution_count": 55
        }
      ]
    },
    {
      "cell_type": "markdown",
      "metadata": {
        "id": "R3N2OSQcDSug"
      },
      "source": [
        "<h2>3. Average of service time by type of request</h2>"
      ]
    },
    {
      "cell_type": "markdown",
      "metadata": {
        "id": "WklQ2bCpUOgU"
      },
      "source": [
        "From the picture above we can conclude that the amount of requests and the time to solve the request are correlated."
      ]
    },
    {
      "cell_type": "code",
      "metadata": {
        "id": "8cV5xWEfT7RN",
        "outputId": "a14d8b39-7b3b-4023-a9f4-b72ac53176a7",
        "colab": {
          "base_uri": "https://localhost:8080/",
          "height": 347
        }
      },
      "source": [
        "df_serv_soli=df_servicio.groupby(['id_tipo_solicitud']).agg({'Service_time_days':'mean'}).rename(columns={'Service_time_days':'Average of service time (days)'})\n",
        "df_serv_soli_count=df_servicio.groupby(['id_tipo_solicitud']).agg({'Service_time_days':'count'}).rename(columns={'Service_time_days':'Total_requests'})\n",
        "df_serv_soli['Total_requests'] = df_serv_soli_count['Total_requests']\n",
        "df_serv_soli['Proportion']=((df_serv_soli['Total_requests']/total_rows)*100).round(2)\n",
        "df_serv_soli.index.rename('Type of request', inplace=True)\n",
        "df_serv_soli"
      ],
      "execution_count": null,
      "outputs": [
        {
          "output_type": "execute_result",
          "data": {
            "text/html": [
              "<div>\n",
              "<style scoped>\n",
              "    .dataframe tbody tr th:only-of-type {\n",
              "        vertical-align: middle;\n",
              "    }\n",
              "\n",
              "    .dataframe tbody tr th {\n",
              "        vertical-align: top;\n",
              "    }\n",
              "\n",
              "    .dataframe thead th {\n",
              "        text-align: right;\n",
              "    }\n",
              "</style>\n",
              "<table border=\"1\" class=\"dataframe\">\n",
              "  <thead>\n",
              "    <tr style=\"text-align: right;\">\n",
              "      <th></th>\n",
              "      <th>Average of service time (days)</th>\n",
              "      <th>Total_requests</th>\n",
              "      <th>Proportion</th>\n",
              "    </tr>\n",
              "    <tr>\n",
              "      <th>Type of request</th>\n",
              "      <th></th>\n",
              "      <th></th>\n",
              "      <th></th>\n",
              "    </tr>\n",
              "  </thead>\n",
              "  <tbody>\n",
              "    <tr>\n",
              "      <th>0</th>\n",
              "      <td>4.098648</td>\n",
              "      <td>18419</td>\n",
              "      <td>9.13</td>\n",
              "    </tr>\n",
              "    <tr>\n",
              "      <th>1</th>\n",
              "      <td>6.908632</td>\n",
              "      <td>49919</td>\n",
              "      <td>24.75</td>\n",
              "    </tr>\n",
              "    <tr>\n",
              "      <th>2</th>\n",
              "      <td>7.021318</td>\n",
              "      <td>11868</td>\n",
              "      <td>5.88</td>\n",
              "    </tr>\n",
              "    <tr>\n",
              "      <th>3</th>\n",
              "      <td>6.757661</td>\n",
              "      <td>12466</td>\n",
              "      <td>6.18</td>\n",
              "    </tr>\n",
              "    <tr>\n",
              "      <th>5</th>\n",
              "      <td>5.398230</td>\n",
              "      <td>226</td>\n",
              "      <td>0.11</td>\n",
              "    </tr>\n",
              "    <tr>\n",
              "      <th>6</th>\n",
              "      <td>6.116700</td>\n",
              "      <td>2982</td>\n",
              "      <td>1.48</td>\n",
              "    </tr>\n",
              "    <tr>\n",
              "      <th>7</th>\n",
              "      <td>5.453815</td>\n",
              "      <td>249</td>\n",
              "      <td>0.12</td>\n",
              "    </tr>\n",
              "    <tr>\n",
              "      <th>8</th>\n",
              "      <td>5.130445</td>\n",
              "      <td>4132</td>\n",
              "      <td>2.05</td>\n",
              "    </tr>\n",
              "    <tr>\n",
              "      <th>9</th>\n",
              "      <td>5.272274</td>\n",
              "      <td>101442</td>\n",
              "      <td>50.29</td>\n",
              "    </tr>\n",
              "  </tbody>\n",
              "</table>\n",
              "</div>"
            ],
            "text/plain": [
              "                 Average of service time (days)  Total_requests  Proportion\n",
              "Type of request                                                            \n",
              "0                                      4.098648           18419        9.13\n",
              "1                                      6.908632           49919       24.75\n",
              "2                                      7.021318           11868        5.88\n",
              "3                                      6.757661           12466        6.18\n",
              "5                                      5.398230             226        0.11\n",
              "6                                      6.116700            2982        1.48\n",
              "7                                      5.453815             249        0.12\n",
              "8                                      5.130445            4132        2.05\n",
              "9                                      5.272274          101442       50.29"
            ]
          },
          "metadata": {
            "tags": []
          },
          "execution_count": 56
        }
      ]
    },
    {
      "cell_type": "markdown",
      "metadata": {
        "id": "1liCTZ2DD6Ak"
      },
      "source": [
        "<h2>4. Average of service time by channel </h2>"
      ]
    },
    {
      "cell_type": "code",
      "metadata": {
        "id": "DutnWnptVOWD",
        "outputId": "07e4c462-0477-4a09-9865-04a0112a557b",
        "colab": {
          "base_uri": "https://localhost:8080/",
          "height": 227
        }
      },
      "source": [
        "df_serv_canal=df_servicio.groupby(['id_canal']).agg({'Service_time_days':'mean'}).rename(columns={'Service_time_days':'Average of service time (days)'})\n",
        "df_serv_canal_count=df_servicio.groupby(['id_canal']).agg({'Service_time_days':'count'}).rename(columns={'Service_time_days':'Total_requests'})\n",
        "df_serv_canal['Total_requests'] = df_serv_canal_count['Total_requests']\n",
        "df_serv_canal['Proportion']=((df_serv_canal['Total_requests']/total_rows)*100).round(2)\n",
        "df_serv_canal.index.rename('Type of Channel', inplace=True)\n",
        "df_serv_canal"
      ],
      "execution_count": null,
      "outputs": [
        {
          "output_type": "execute_result",
          "data": {
            "text/html": [
              "<div>\n",
              "<style scoped>\n",
              "    .dataframe tbody tr th:only-of-type {\n",
              "        vertical-align: middle;\n",
              "    }\n",
              "\n",
              "    .dataframe tbody tr th {\n",
              "        vertical-align: top;\n",
              "    }\n",
              "\n",
              "    .dataframe thead th {\n",
              "        text-align: right;\n",
              "    }\n",
              "</style>\n",
              "<table border=\"1\" class=\"dataframe\">\n",
              "  <thead>\n",
              "    <tr style=\"text-align: right;\">\n",
              "      <th></th>\n",
              "      <th>Average of service time (days)</th>\n",
              "      <th>Total_requests</th>\n",
              "      <th>Proportion</th>\n",
              "    </tr>\n",
              "    <tr>\n",
              "      <th>Type of Channel</th>\n",
              "      <th></th>\n",
              "      <th></th>\n",
              "      <th></th>\n",
              "    </tr>\n",
              "  </thead>\n",
              "  <tbody>\n",
              "    <tr>\n",
              "      <th>0</th>\n",
              "      <td>13.000000</td>\n",
              "      <td>1</td>\n",
              "      <td>0.00</td>\n",
              "    </tr>\n",
              "    <tr>\n",
              "      <th>1</th>\n",
              "      <td>9.662267</td>\n",
              "      <td>47126</td>\n",
              "      <td>23.36</td>\n",
              "    </tr>\n",
              "    <tr>\n",
              "      <th>2</th>\n",
              "      <td>6.421874</td>\n",
              "      <td>110168</td>\n",
              "      <td>54.62</td>\n",
              "    </tr>\n",
              "    <tr>\n",
              "      <th>3</th>\n",
              "      <td>0.048023</td>\n",
              "      <td>39294</td>\n",
              "      <td>19.48</td>\n",
              "    </tr>\n",
              "    <tr>\n",
              "      <th>4</th>\n",
              "      <td>0.010364</td>\n",
              "      <td>5114</td>\n",
              "      <td>2.54</td>\n",
              "    </tr>\n",
              "  </tbody>\n",
              "</table>\n",
              "</div>"
            ],
            "text/plain": [
              "                 Average of service time (days)  Total_requests  Proportion\n",
              "Type of Channel                                                            \n",
              "0                                     13.000000               1        0.00\n",
              "1                                      9.662267           47126       23.36\n",
              "2                                      6.421874          110168       54.62\n",
              "3                                      0.048023           39294       19.48\n",
              "4                                      0.010364            5114        2.54"
            ]
          },
          "metadata": {
            "tags": []
          },
          "execution_count": 57
        }
      ]
    },
    {
      "cell_type": "markdown",
      "metadata": {
        "id": "IMVaPhDSEHpL"
      },
      "source": [
        "<h2>5. Average of service time by Macro-processes </h2>"
      ]
    },
    {
      "cell_type": "code",
      "metadata": {
        "id": "X77X4u6PER3O",
        "outputId": "1bb846b6-e3bf-4a7d-9305-fb258b548950",
        "colab": {
          "base_uri": "https://localhost:8080/",
          "height": 407
        }
      },
      "source": [
        "df_serv_macrop=df_servicio.groupby(['id_macroproceso']).agg({'Service_time_days':'mean'}).rename(columns={'Service_time_days':'Average of service time (days)'})\n",
        "df_serv_macrop_count=df_servicio.groupby(['id_macroproceso']).agg({'Service_time_days':'count'}).rename(columns={'Service_time_days':'Total_requests'})\n",
        "df_serv_macrop['Total_requests'] = df_serv_macrop_count['Total_requests']\n",
        "df_serv_macrop['Proportion']=((df_serv_macrop['Total_requests']/total_rows)*100).round(2)\n",
        "df_serv_macrop.index.rename('Type of Macroprocess', inplace=True)\n",
        "df_serv_macrop"
      ],
      "execution_count": null,
      "outputs": [
        {
          "output_type": "execute_result",
          "data": {
            "text/html": [
              "<div>\n",
              "<style scoped>\n",
              "    .dataframe tbody tr th:only-of-type {\n",
              "        vertical-align: middle;\n",
              "    }\n",
              "\n",
              "    .dataframe tbody tr th {\n",
              "        vertical-align: top;\n",
              "    }\n",
              "\n",
              "    .dataframe thead th {\n",
              "        text-align: right;\n",
              "    }\n",
              "</style>\n",
              "<table border=\"1\" class=\"dataframe\">\n",
              "  <thead>\n",
              "    <tr style=\"text-align: right;\">\n",
              "      <th></th>\n",
              "      <th>Average of service time (days)</th>\n",
              "      <th>Total_requests</th>\n",
              "      <th>Proportion</th>\n",
              "    </tr>\n",
              "    <tr>\n",
              "      <th>Type of Macroprocess</th>\n",
              "      <th></th>\n",
              "      <th></th>\n",
              "      <th></th>\n",
              "    </tr>\n",
              "  </thead>\n",
              "  <tbody>\n",
              "    <tr>\n",
              "      <th>0</th>\n",
              "      <td>7.089320</td>\n",
              "      <td>1030</td>\n",
              "      <td>0.51</td>\n",
              "    </tr>\n",
              "    <tr>\n",
              "      <th>1</th>\n",
              "      <td>6.342657</td>\n",
              "      <td>143</td>\n",
              "      <td>0.07</td>\n",
              "    </tr>\n",
              "    <tr>\n",
              "      <th>2</th>\n",
              "      <td>6.265060</td>\n",
              "      <td>83</td>\n",
              "      <td>0.04</td>\n",
              "    </tr>\n",
              "    <tr>\n",
              "      <th>3</th>\n",
              "      <td>5.711380</td>\n",
              "      <td>163443</td>\n",
              "      <td>81.03</td>\n",
              "    </tr>\n",
              "    <tr>\n",
              "      <th>4</th>\n",
              "      <td>6.120171</td>\n",
              "      <td>29666</td>\n",
              "      <td>14.71</td>\n",
              "    </tr>\n",
              "    <tr>\n",
              "      <th>5</th>\n",
              "      <td>5.000000</td>\n",
              "      <td>1365</td>\n",
              "      <td>0.68</td>\n",
              "    </tr>\n",
              "    <tr>\n",
              "      <th>6</th>\n",
              "      <td>7.066991</td>\n",
              "      <td>821</td>\n",
              "      <td>0.41</td>\n",
              "    </tr>\n",
              "    <tr>\n",
              "      <th>7</th>\n",
              "      <td>5.705866</td>\n",
              "      <td>3495</td>\n",
              "      <td>1.73</td>\n",
              "    </tr>\n",
              "    <tr>\n",
              "      <th>8</th>\n",
              "      <td>4.856187</td>\n",
              "      <td>1196</td>\n",
              "      <td>0.59</td>\n",
              "    </tr>\n",
              "    <tr>\n",
              "      <th>9</th>\n",
              "      <td>4.535849</td>\n",
              "      <td>265</td>\n",
              "      <td>0.13</td>\n",
              "    </tr>\n",
              "    <tr>\n",
              "      <th>10</th>\n",
              "      <td>7.285714</td>\n",
              "      <td>196</td>\n",
              "      <td>0.10</td>\n",
              "    </tr>\n",
              "  </tbody>\n",
              "</table>\n",
              "</div>"
            ],
            "text/plain": [
              "                      Average of service time (days)  ...  Proportion\n",
              "Type of Macroprocess                                  ...            \n",
              "0                                           7.089320  ...        0.51\n",
              "1                                           6.342657  ...        0.07\n",
              "2                                           6.265060  ...        0.04\n",
              "3                                           5.711380  ...       81.03\n",
              "4                                           6.120171  ...       14.71\n",
              "5                                           5.000000  ...        0.68\n",
              "6                                           7.066991  ...        0.41\n",
              "7                                           5.705866  ...        1.73\n",
              "8                                           4.856187  ...        0.59\n",
              "9                                           4.535849  ...        0.13\n",
              "10                                          7.285714  ...        0.10\n",
              "\n",
              "[11 rows x 3 columns]"
            ]
          },
          "metadata": {
            "tags": []
          },
          "execution_count": 58
        }
      ]
    },
    {
      "cell_type": "markdown",
      "metadata": {
        "id": "H1UhuGC7HR9-"
      },
      "source": [
        "<h2>6. Barplots about different features </h2>"
      ]
    },
    {
      "cell_type": "markdown",
      "metadata": {
        "id": "8b_qjLqi0DXA"
      },
      "source": [
        "## We want to look closely to the amount of requests for  each of the features"
      ]
    },
    {
      "cell_type": "code",
      "metadata": {
        "id": "Mrr9MYYRHXnk",
        "outputId": "1ba04425-acdd-4e2a-df88-372a4cbcc1b4",
        "colab": {
          "base_uri": "https://localhost:8080/",
          "height": 987
        }
      },
      "source": [
        "fig, axs = plt.subplots(ncols = 2, nrows=2,  sharey=True, figsize=(25,20))\n",
        "fig.suptitle('Bar Plots plots by different features')\n",
        "months=['Jan','Feb','Mar','Apr','May','Jun','Jul','Aug','Sep','Oct','Nov']\n",
        "request=['NA','Peticion','Quejas','Reclamos','Felicitacion','Denuncia','D. corrupcion','Inf. Publica','PQRS Verbal']\n",
        "canal=['NA', 'Medio Fisico', 'Virtual', 'Presencial', 'Telefonico']\n",
        "macro=[0,1,2,3,4,5,6,7,8,9,10]\n",
        "\n",
        "bplot1=sns.barplot(x=months,y=df_serv_mes['Total_requests'], ax=axs[0,0], color='darkcyan')\n",
        "axs[0, 0].set_title('Months')\n",
        "axs[0, 0].set(xlabel='Month', ylabel='Total of request')\n",
        "\n",
        "bplot2=sns.barplot(x=request,y=df_serv_soli['Total_requests'], ax=axs[0,1], color='darkcyan')\n",
        "axs[0, 1].set_title('Requests')\n",
        "axs[0, 1].set(xlabel='Type of request', ylabel='Total of request')\n",
        "bplot2.set_xticklabels(labels=request, rotation=30)\n",
        "\n",
        "bplot3=sns.barplot(x=canal,y=df_serv_canal['Total_requests'], ax=axs[1,0], color='darkcyan')\n",
        "axs[1, 0].set_title('Channels')\n",
        "axs[1, 0].set(xlabel='Type of channel', ylabel='Total of request')\n",
        "\n",
        "bplot4=sns.barplot(x=macro,y=df_serv_macrop['Total_requests'], ax=axs[1,1], color='darkcyan')\n",
        "axs[1, 1].set_title('Macroprocess')\n",
        "axs[1, 1].set(xlabel='Type of Macroprocess', ylabel='Total of request')"
      ],
      "execution_count": null,
      "outputs": [
        {
          "output_type": "execute_result",
          "data": {
            "text/plain": [
              "[Text(0, 0.5, 'Total of request'), Text(0.5, 0, 'Type of Macroprocess')]"
            ]
          },
          "metadata": {
            "tags": []
          },
          "execution_count": 80
        },
        {
          "output_type": "display_data",
          "data": {
            "image/png": "[encoded data removed]",
            "text/plain": [
              "<Figure size 1800x1440 with 4 Axes>"
            ]
          },
          "metadata": {
            "tags": [],
            "needs_background": "light"
          }
        }
      ]
    },
    {
      "cell_type": "markdown",
      "metadata": {
        "id": "RzdMX-dx0BoY"
      },
      "source": [
        ""
      ]
    },
    {
      "cell_type": "markdown",
      "metadata": {
        "id": "_8MMiFICGjfB"
      },
      "source": [
        "<h2>7. Scatterplots about different features </h2>"
      ]
    },
    {
      "cell_type": "markdown",
      "metadata": {
        "id": "tX7CTaPt0hjX"
      },
      "source": [
        "We can get a better look of the total requests if we consider the time spended to solve eachof them."
      ]
    },
    {
      "cell_type": "code",
      "metadata": {
        "id": "fxYWdpaPj7WW",
        "outputId": "048184f2-6337-46d0-dcd3-8d6bb109a03c",
        "colab": {
          "base_uri": "https://localhost:8080/",
          "height": 367
        }
      },
      "source": [
        "fig, (ax1, ax2, ax3) = plt.subplots(ncols = 3, sharey=True, figsize=(20,5))\n",
        "fig.suptitle('Scatter plots')\n",
        "sns.scatterplot(data=df_serv_canal, x=\"Type of Channel\", y=\"Average of service time (days)\", hue=\"Total_requests\", size=\"Total_requests\",\n",
        " palette =\"crest\", ax = ax1\n",
        ")\n",
        "sns.scatterplot(data=df_serv_soli, x=\"Type of request\", y=\"Average of service time (days)\", hue=\"Total_requests\", size=\"Total_requests\",\n",
        " palette =\"crest\", ax = ax2\n",
        ")\n",
        "sns.scatterplot(data=df_serv_mes, x=\"Reception_month\", y=\"Average of service time (days)\", hue=\"Total_requests\", size=\"Total_requests\",\n",
        " palette =\"crest\", ax = ax3\n",
        ")"
      ],
      "execution_count": null,
      "outputs": [
        {
          "output_type": "execute_result",
          "data": {
            "text/plain": [
              "<matplotlib.axes._subplots.AxesSubplot at 0x7f56d13ff358>"
            ]
          },
          "metadata": {
            "tags": []
          },
          "execution_count": 65
        },
        {
          "output_type": "display_data",
          "data": {
            "image/png": "[encoded data removed]",
            "text/plain": [
              "<Figure size 1440x360 with 3 Axes>"
            ]
          },
          "metadata": {
            "tags": [],
            "needs_background": "light"
          }
        }
      ]
    },
    {
      "cell_type": "markdown",
      "metadata": {
        "id": "PUyazSUPbRHc"
      },
      "source": [
        "<h2>8. Boxplots of service time by different features </h2>"
      ]
    },
    {
      "cell_type": "code",
      "metadata": {
        "id": "0mQNQP2DhzZh",
        "outputId": "d4037b4b-234c-4e9b-edb4-b3f0237230ee",
        "colab": {
          "base_uri": "https://localhost:8080/",
          "height": 653
        }
      },
      "source": [
        "fig, axs = plt.subplots(ncols = 2, nrows=2,  sharey=True, figsize=(20,10))\n",
        "fig.suptitle('Box plots about services time')\n",
        "boxplot1=sns.boxplot(x='Reception_month', y='Service_time_days', data=df_servicio, ax= axs[0,0], palette =\"crest\")\n",
        "boxplot1.set(xlabel='Reception month of 2019',ylabel='Service time (days)')\n",
        "\n",
        "boxplot2=sns.boxplot(x='id_tipo_solicitud', y='Service_time_days', data=df_servicio, ax= axs[0,1], palette =\"crest\")\n",
        "boxplot2.set(xlabel='Type of request',ylabel='Service time (days)')\n",
        "\n",
        "boxplot3=sns.boxplot(x='id_canal', y='Service_time_days', data=df_servicio, ax= axs[1,0], palette =\"crest\")\n",
        "boxplot3.set(xlabel='Type of Channel',ylabel='Service time (days)')\n",
        "\n",
        "boxplot4=sns.boxplot(x='id_macroproceso', y='Service_time_days', data=df_servicio, ax= axs[1,1], palette =\"crest\")\n",
        "boxplot4.set(xlabel='Type of Macroprocess',ylabel='Service time (days)')"
      ],
      "execution_count": null,
      "outputs": [
        {
          "output_type": "execute_result",
          "data": {
            "text/plain": [
              "[Text(0, 0.5, 'Service time (days)'), Text(0.5, 0, 'Type of Macroprocess')]"
            ]
          },
          "metadata": {
            "tags": []
          },
          "execution_count": 66
        },
        {
          "output_type": "display_data",
          "data": {
            "image/png": "[encoded data removed]",
            "text/plain": [
              "<Figure size 1440x720 with 4 Axes>"
            ]
          },
          "metadata": {
            "tags": [],
            "needs_background": "light"
          }
        }
      ]
    },
    {
      "cell_type": "markdown",
      "metadata": {
        "id": "xwTqsTEabetM"
      },
      "source": [
        "<h2>9. ANOVA Analysis </h2>"
      ]
    },
    {
      "cell_type": "code",
      "metadata": {
        "id": "oBOGhaK6oYt1",
        "outputId": "9d9a8291-f2ba-48f3-937c-09dc840fb3f4",
        "colab": {
          "base_uri": "https://localhost:8080/"
        }
      },
      "source": [
        "# Analisis ANOVA del tiempo de servicio por meses\n",
        "import scipy.stats as stats\n",
        "# Crear grupo de tiempo de servicio por mes\n",
        "ene=df_servicio.groupby('Reception_month').get_group(1)['Service_time_days']\n",
        "feb=df_servicio.groupby('Reception_month').get_group(2)['Service_time_days']\n",
        "mar=df_servicio.groupby('Reception_month').get_group(3)['Service_time_days']\n",
        "abr=df_servicio.groupby('Reception_month').get_group(4)['Service_time_days']\n",
        "may=df_servicio.groupby('Reception_month').get_group(5)['Service_time_days']\n",
        "jun=df_servicio.groupby('Reception_month').get_group(6)['Service_time_days']\n",
        "jul=df_servicio.groupby('Reception_month').get_group(7)['Service_time_days']\n",
        "ago=df_servicio.groupby('Reception_month').get_group(8)['Service_time_days']\n",
        "sep=df_servicio.groupby('Reception_month').get_group(9)['Service_time_days']\n",
        "oct=df_servicio.groupby('Reception_month').get_group(10)['Service_time_days']\n",
        "nov=df_servicio.groupby('Reception_month').get_group(11)['Service_time_days']\n",
        "#dec=df_servicio.groupby('Reception_month').get_group(12)['Service_time_days']\n",
        "\n",
        "#Prueba ANOVA para todos los meses\n",
        "fvalue, pvalue = stats.f_oneway(ene, feb, mar, abr, may, jun, jul, ago, sep, oct, nov)\n",
        "# Imprime F-value y P-value\n",
        "print(\"F-score:\",fvalue, \"y P-value:\", pvalue)"
      ],
      "execution_count": null,
      "outputs": [
        {
          "output_type": "stream",
          "text": [
            "F-score: 407.2045336857181 y P-value: 0.0\n"
          ],
          "name": "stdout"
        }
      ]
    },
    {
      "cell_type": "code",
      "metadata": {
        "id": "WrMjL7xToh9w",
        "outputId": "3ba02b0f-e28d-4d7d-ef1f-08e3a591ee1a",
        "colab": {
          "base_uri": "https://localhost:8080/"
        }
      },
      "source": [
        "# Analisis ANOVA del tiempo de servicio por canales\n",
        "import scipy.stats as stats\n",
        "# Crear grupo de tiempo de servicio por mes\n",
        "fis=df_servicio.groupby('id_canal').get_group(1)['Service_time_days'] # Canal Fisico\n",
        "pre=df_servicio.groupby('id_canal').get_group(2)['Service_time_days'] # Canal Virtual\n",
        "vir=df_servicio.groupby('id_canal').get_group(3)['Service_time_days'] # Canal Presencial\n",
        "tel=df_servicio.groupby('id_canal').get_group(4)['Service_time_days'] # Canal Telefonico\n",
        "\n",
        "#Prueba ANOVA para todos los canales\n",
        "fvalue, pvalue = stats.f_oneway(fis, pre, vir, tel)\n",
        "# Imprime F-value y P-value\n",
        "print(\"F-score:\",fvalue, \"y P-value:\", pvalue)"
      ],
      "execution_count": null,
      "outputs": [
        {
          "output_type": "stream",
          "text": [
            "F-score: 11156.602375612965 y P-value: 0.0\n"
          ],
          "name": "stdout"
        }
      ]
    },
    {
      "cell_type": "code",
      "metadata": {
        "id": "3v9PnkvPonuB",
        "outputId": "501dc8f6-7a21-4150-c41b-3dbd6832abc3",
        "colab": {
          "base_uri": "https://localhost:8080/"
        }
      },
      "source": [
        "# Analisis ANOVA del tiempo de servicio por  tipo de solicitud\n",
        "import scipy.stats as stats\n",
        "# Crear grupo de tiempo de servicio por tipo de solicitud\n",
        "t1=df_servicio.groupby('id_tipo_solicitud').get_group(1)['Service_time_days'] # Solicitud tipo 1=Peticiones\n",
        "t2=df_servicio.groupby('id_tipo_solicitud').get_group(2)['Service_time_days'] # Solicitud tipo 2=Quejas\n",
        "t3=df_servicio.groupby('id_tipo_solicitud').get_group(3)['Service_time_days'] # Solicitud tipo 3=Reclamos\n",
        "#t4=df_servicio.groupby('id_tipo_solicitud').get_group(4)['Service_time_days'] # Solicitud tipo 4=Sugerencias\n",
        "t5=df_servicio.groupby('id_tipo_solicitud').get_group(5)['Service_time_days'] # Solicitud tipo 5=Felicitaciones\n",
        "t6=df_servicio.groupby('id_tipo_solicitud').get_group(6)['Service_time_days'] # Solicitud tipo 6=Denuncia\n",
        "t7=df_servicio.groupby('id_tipo_solicitud').get_group(7)['Service_time_days'] # Solicitud tipo 7=Denuncia por corrupcion\n",
        "t8=df_servicio.groupby('id_tipo_solicitud').get_group(8)['Service_time_days'] # Solicitud tipo 8=Informacion publica\n",
        "t9=df_servicio.groupby('id_tipo_solicitud').get_group(9)['Service_time_days'] # Solicitud tipo 9=PQSD Verbal\n",
        "#t10=df_servicio.groupby('id_tipo_solicitud').get_group(10)['Service_time_days'] # Solicitud tipo 10\n",
        "\n",
        "#Prueba ANOVA para todos los tipos de solicitud\n",
        "fvalue, pvalue = stats.f_oneway(t1, t2, t3,t5, t6, t7, t8, t9)\n",
        "# Imprime F-value y P-value\n",
        "print(\"F-score:\",fvalue, \"y P-value:\", pvalue)"
      ],
      "execution_count": null,
      "outputs": [
        {
          "output_type": "stream",
          "text": [
            "F-score: 206.5500865092182 y P-value: 7.737795583831314e-307\n"
          ],
          "name": "stdout"
        }
      ]
    },
    {
      "cell_type": "markdown",
      "metadata": {
        "id": "C8LZNAbUK6qA"
      },
      "source": [
        "<h2>10. Alerts </h2>"
      ]
    },
    {
      "cell_type": "markdown",
      "metadata": {
        "id": "1pdCO2lE1jzx"
      },
      "source": [
        "We can create alerts for the requests that has no the right way to be solved so they are delayed. "
      ]
    },
    {
      "cell_type": "code",
      "metadata": {
        "id": "nH67xlHeURYh",
        "outputId": "ba26df8c-9645-41be-8e9f-7aeef8ea5fd5",
        "colab": {
          "base_uri": "https://localhost:8080/"
        }
      },
      "source": [
        "#Create a column with indicative features for the time of service\n",
        "# Tim limit: 15 dias habiles aprox a 20 dias calendario\n",
        "df_servicio['In_Time']= np.where(df_servicio['Service_time_days']<=21, 'Yes', 'No')"
      ],
      "execution_count": null,
      "outputs": [
        {
          "output_type": "stream",
          "text": [
            "/usr/local/lib/python3.6/dist-packages/ipykernel_launcher.py:3: SettingWithCopyWarning: \n",
            "A value is trying to be set on a copy of a slice from a DataFrame.\n",
            "Try using .loc[row_indexer,col_indexer] = value instead\n",
            "\n",
            "See the caveats in the documentation: https://pandas.pydata.org/pandas-docs/stable/user_guide/indexing.html#returning-a-view-versus-a-copy\n",
            "  This is separate from the ipykernel package so we can avoid doing imports until\n"
          ],
          "name": "stderr"
        }
      ]
    },
    {
      "cell_type": "code",
      "metadata": {
        "id": "VQhmfy_GOTbu",
        "outputId": "5b2c0522-5069-4013-c542-f444ccc78fa7",
        "colab": {
          "base_uri": "https://localhost:8080/",
          "height": 401
        }
      },
      "source": [
        "df_servicio.head()"
      ],
      "execution_count": null,
      "outputs": [
        {
          "output_type": "execute_result",
          "data": {
            "text/html": [
              "<div>\n",
              "<style scoped>\n",
              "    .dataframe tbody tr th:only-of-type {\n",
              "        vertical-align: middle;\n",
              "    }\n",
              "\n",
              "    .dataframe tbody tr th {\n",
              "        vertical-align: top;\n",
              "    }\n",
              "\n",
              "    .dataframe thead th {\n",
              "        text-align: right;\n",
              "    }\n",
              "</style>\n",
              "<table border=\"1\" class=\"dataframe\">\n",
              "  <thead>\n",
              "    <tr style=\"text-align: right;\">\n",
              "      <th></th>\n",
              "      <th>id_data</th>\n",
              "      <th>fecha_recepcion</th>\n",
              "      <th>id_macroproceso</th>\n",
              "      <th>id_estado_radicado</th>\n",
              "      <th>id_unidad_administrativa</th>\n",
              "      <th>id_anotacion</th>\n",
              "      <th>id_departamento_rnec</th>\n",
              "      <th>id_traslado</th>\n",
              "      <th>id_departamento</th>\n",
              "      <th>id_estado_pqrs</th>\n",
              "      <th>fecha_cierre</th>\n",
              "      <th>dias</th>\n",
              "      <th>dias_laborales</th>\n",
              "      <th>id_fuente_general</th>\n",
              "      <th>id_medio</th>\n",
              "      <th>id_canal</th>\n",
              "      <th>id_municipio</th>\n",
              "      <th>id_nivel</th>\n",
              "      <th>id_oportunidad_cierre</th>\n",
              "      <th>id_oportunidad_tratamiento</th>\n",
              "      <th>cod_iso3</th>\n",
              "      <th>id_sexo</th>\n",
              "      <th>id_tipo_solicitud</th>\n",
              "      <th>id_tipo_identificacion</th>\n",
              "      <th>asunto</th>\n",
              "      <th>Reception_month</th>\n",
              "      <th>Service_time_days</th>\n",
              "      <th>In_Time</th>\n",
              "    </tr>\n",
              "  </thead>\n",
              "  <tbody>\n",
              "    <tr>\n",
              "      <th>0</th>\n",
              "      <td>1</td>\n",
              "      <td>10/01/2019</td>\n",
              "      <td>3</td>\n",
              "      <td>2</td>\n",
              "      <td>2</td>\n",
              "      <td>0</td>\n",
              "      <td>91</td>\n",
              "      <td>0</td>\n",
              "      <td>91</td>\n",
              "      <td>3</td>\n",
              "      <td>14/01/2019</td>\n",
              "      <td>4</td>\n",
              "      <td>3</td>\n",
              "      <td>1</td>\n",
              "      <td>5</td>\n",
              "      <td>2</td>\n",
              "      <td>0</td>\n",
              "      <td>1</td>\n",
              "      <td>1</td>\n",
              "      <td>2</td>\n",
              "      <td>COL</td>\n",
              "      <td>0</td>\n",
              "      <td>1</td>\n",
              "      <td>3</td>\n",
              "      <td>P. - I.D. - T.I. - Agendamiento</td>\n",
              "      <td>1</td>\n",
              "      <td>4</td>\n",
              "      <td>Yes</td>\n",
              "    </tr>\n",
              "    <tr>\n",
              "      <th>1</th>\n",
              "      <td>2</td>\n",
              "      <td>22/01/2019</td>\n",
              "      <td>3</td>\n",
              "      <td>2</td>\n",
              "      <td>2</td>\n",
              "      <td>0</td>\n",
              "      <td>91</td>\n",
              "      <td>0</td>\n",
              "      <td>91</td>\n",
              "      <td>3</td>\n",
              "      <td>25/01/2019</td>\n",
              "      <td>3</td>\n",
              "      <td>4</td>\n",
              "      <td>1</td>\n",
              "      <td>5</td>\n",
              "      <td>2</td>\n",
              "      <td>0</td>\n",
              "      <td>1</td>\n",
              "      <td>1</td>\n",
              "      <td>2</td>\n",
              "      <td>COL</td>\n",
              "      <td>0</td>\n",
              "      <td>1</td>\n",
              "      <td>1</td>\n",
              "      <td>P. - I.D. - C.C. -  Traslado.</td>\n",
              "      <td>1</td>\n",
              "      <td>3</td>\n",
              "      <td>Yes</td>\n",
              "    </tr>\n",
              "    <tr>\n",
              "      <th>2</th>\n",
              "      <td>3</td>\n",
              "      <td>23/01/2019</td>\n",
              "      <td>3</td>\n",
              "      <td>2</td>\n",
              "      <td>2</td>\n",
              "      <td>0</td>\n",
              "      <td>91</td>\n",
              "      <td>481</td>\n",
              "      <td>91</td>\n",
              "      <td>3</td>\n",
              "      <td>25/01/2019</td>\n",
              "      <td>2</td>\n",
              "      <td>3</td>\n",
              "      <td>1</td>\n",
              "      <td>5</td>\n",
              "      <td>2</td>\n",
              "      <td>0</td>\n",
              "      <td>1</td>\n",
              "      <td>1</td>\n",
              "      <td>2</td>\n",
              "      <td>COL</td>\n",
              "      <td>0</td>\n",
              "      <td>9</td>\n",
              "      <td>1</td>\n",
              "      <td>P. - I.D. - C.C. - Cancelaciones.</td>\n",
              "      <td>1</td>\n",
              "      <td>2</td>\n",
              "      <td>Yes</td>\n",
              "    </tr>\n",
              "    <tr>\n",
              "      <th>3</th>\n",
              "      <td>4</td>\n",
              "      <td>25/01/2019</td>\n",
              "      <td>4</td>\n",
              "      <td>2</td>\n",
              "      <td>2</td>\n",
              "      <td>0</td>\n",
              "      <td>91</td>\n",
              "      <td>0</td>\n",
              "      <td>91</td>\n",
              "      <td>3</td>\n",
              "      <td>30/01/2019</td>\n",
              "      <td>5</td>\n",
              "      <td>4</td>\n",
              "      <td>1</td>\n",
              "      <td>5</td>\n",
              "      <td>2</td>\n",
              "      <td>0</td>\n",
              "      <td>1</td>\n",
              "      <td>1</td>\n",
              "      <td>2</td>\n",
              "      <td>COL</td>\n",
              "      <td>0</td>\n",
              "      <td>6</td>\n",
              "      <td>1</td>\n",
              "      <td>Q. -Por atencion irrespetuosa del servidor pub...</td>\n",
              "      <td>1</td>\n",
              "      <td>5</td>\n",
              "      <td>Yes</td>\n",
              "    </tr>\n",
              "    <tr>\n",
              "      <th>4</th>\n",
              "      <td>5</td>\n",
              "      <td>25/01/2019</td>\n",
              "      <td>4</td>\n",
              "      <td>2</td>\n",
              "      <td>2</td>\n",
              "      <td>0</td>\n",
              "      <td>91</td>\n",
              "      <td>0</td>\n",
              "      <td>91</td>\n",
              "      <td>3</td>\n",
              "      <td>30/01/2019</td>\n",
              "      <td>5</td>\n",
              "      <td>4</td>\n",
              "      <td>1</td>\n",
              "      <td>5</td>\n",
              "      <td>2</td>\n",
              "      <td>0</td>\n",
              "      <td>1</td>\n",
              "      <td>1</td>\n",
              "      <td>2</td>\n",
              "      <td>COL</td>\n",
              "      <td>0</td>\n",
              "      <td>6</td>\n",
              "      <td>1</td>\n",
              "      <td>Q. -Por atencion irrespetuosa del servidor pub...</td>\n",
              "      <td>1</td>\n",
              "      <td>5</td>\n",
              "      <td>Yes</td>\n",
              "    </tr>\n",
              "  </tbody>\n",
              "</table>\n",
              "</div>"
            ],
            "text/plain": [
              "   id_data fecha_recepcion  ...  Service_time_days  In_Time\n",
              "0        1      10/01/2019  ...                  4      Yes\n",
              "1        2      22/01/2019  ...                  3      Yes\n",
              "2        3      23/01/2019  ...                  2      Yes\n",
              "3        4      25/01/2019  ...                  5      Yes\n",
              "4        5      25/01/2019  ...                  5      Yes\n",
              "\n",
              "[5 rows x 28 columns]"
            ]
          },
          "metadata": {
            "tags": []
          },
          "execution_count": 82
        }
      ]
    },
    {
      "cell_type": "code",
      "metadata": {
        "id": "p3s-DFi-PYC7",
        "outputId": "9c80cb97-4146-4900-df55-00812fa678c1",
        "colab": {
          "base_uri": "https://localhost:8080/",
          "height": 157
        }
      },
      "source": [
        "df_servicio.groupby(['In_Time']).mean()"
      ],
      "execution_count": null,
      "outputs": [
        {
          "output_type": "execute_result",
          "data": {
            "text/html": [
              "<div>\n",
              "<style scoped>\n",
              "    .dataframe tbody tr th:only-of-type {\n",
              "        vertical-align: middle;\n",
              "    }\n",
              "\n",
              "    .dataframe tbody tr th {\n",
              "        vertical-align: top;\n",
              "    }\n",
              "\n",
              "    .dataframe thead th {\n",
              "        text-align: right;\n",
              "    }\n",
              "</style>\n",
              "<table border=\"1\" class=\"dataframe\">\n",
              "  <thead>\n",
              "    <tr style=\"text-align: right;\">\n",
              "      <th></th>\n",
              "      <th>id_data</th>\n",
              "      <th>id_macroproceso</th>\n",
              "      <th>id_estado_radicado</th>\n",
              "      <th>id_unidad_administrativa</th>\n",
              "      <th>id_anotacion</th>\n",
              "      <th>id_departamento_rnec</th>\n",
              "      <th>id_traslado</th>\n",
              "      <th>id_departamento</th>\n",
              "      <th>id_estado_pqrs</th>\n",
              "      <th>dias</th>\n",
              "      <th>dias_laborales</th>\n",
              "      <th>id_fuente_general</th>\n",
              "      <th>id_medio</th>\n",
              "      <th>id_canal</th>\n",
              "      <th>id_municipio</th>\n",
              "      <th>id_nivel</th>\n",
              "      <th>id_oportunidad_cierre</th>\n",
              "      <th>id_oportunidad_tratamiento</th>\n",
              "      <th>id_sexo</th>\n",
              "      <th>id_tipo_solicitud</th>\n",
              "      <th>id_tipo_identificacion</th>\n",
              "      <th>Reception_month</th>\n",
              "      <th>Service_time_days</th>\n",
              "    </tr>\n",
              "    <tr>\n",
              "      <th>In_Time</th>\n",
              "      <th></th>\n",
              "      <th></th>\n",
              "      <th></th>\n",
              "      <th></th>\n",
              "      <th></th>\n",
              "      <th></th>\n",
              "      <th></th>\n",
              "      <th></th>\n",
              "      <th></th>\n",
              "      <th></th>\n",
              "      <th></th>\n",
              "      <th></th>\n",
              "      <th></th>\n",
              "      <th></th>\n",
              "      <th></th>\n",
              "      <th></th>\n",
              "      <th></th>\n",
              "      <th></th>\n",
              "      <th></th>\n",
              "      <th></th>\n",
              "      <th></th>\n",
              "      <th></th>\n",
              "      <th></th>\n",
              "    </tr>\n",
              "  </thead>\n",
              "  <tbody>\n",
              "    <tr>\n",
              "      <th>No</th>\n",
              "      <td>145387.060706</td>\n",
              "      <td>3.212588</td>\n",
              "      <td>1.829412</td>\n",
              "      <td>1.424941</td>\n",
              "      <td>0.018235</td>\n",
              "      <td>117.804941</td>\n",
              "      <td>362.725294</td>\n",
              "      <td>8.121765</td>\n",
              "      <td>2.998235</td>\n",
              "      <td>35.181059</td>\n",
              "      <td>26.103882</td>\n",
              "      <td>3.830000</td>\n",
              "      <td>2.764941</td>\n",
              "      <td>1.263059</td>\n",
              "      <td>33.801529</td>\n",
              "      <td>1.728235</td>\n",
              "      <td>2.188235</td>\n",
              "      <td>1.219882</td>\n",
              "      <td>0.312706</td>\n",
              "      <td>7.386941</td>\n",
              "      <td>1.355294</td>\n",
              "      <td>5.339529</td>\n",
              "      <td>35.181059</td>\n",
              "    </tr>\n",
              "    <tr>\n",
              "      <th>Yes</th>\n",
              "      <td>106750.726686</td>\n",
              "      <td>3.271813</td>\n",
              "      <td>1.010202</td>\n",
              "      <td>3.215628</td>\n",
              "      <td>0.001247</td>\n",
              "      <td>85.493269</td>\n",
              "      <td>109.978199</td>\n",
              "      <td>13.557766</td>\n",
              "      <td>2.999063</td>\n",
              "      <td>4.481002</td>\n",
              "      <td>4.181509</td>\n",
              "      <td>2.231358</td>\n",
              "      <td>5.338675</td>\n",
              "      <td>2.044813</td>\n",
              "      <td>54.948489</td>\n",
              "      <td>1.488429</td>\n",
              "      <td>1.589401</td>\n",
              "      <td>2.012541</td>\n",
              "      <td>0.652417</td>\n",
              "      <td>5.253868</td>\n",
              "      <td>1.346822</td>\n",
              "      <td>5.906435</td>\n",
              "      <td>4.481002</td>\n",
              "    </tr>\n",
              "  </tbody>\n",
              "</table>\n",
              "</div>"
            ],
            "text/plain": [
              "               id_data  id_macroproceso  ...  Reception_month  Service_time_days\n",
              "In_Time                                  ...                                    \n",
              "No       145387.060706         3.212588  ...         5.339529          35.181059\n",
              "Yes      106750.726686         3.271813  ...         5.906435           4.481002\n",
              "\n",
              "[2 rows x 23 columns]"
            ]
          },
          "metadata": {
            "tags": []
          },
          "execution_count": 83
        }
      ]
    },
    {
      "cell_type": "code",
      "metadata": {
        "id": "WGrMcHPxUI7G",
        "outputId": "c974b4ff-77d5-4567-8bcc-76a9df83be12",
        "colab": {
          "base_uri": "https://localhost:8080/",
          "height": 137
        }
      },
      "source": [
        "df_intime=df_servicio.groupby(['In_Time']).agg({'In_Time':'count'}).rename(columns={'In_Time':'Total of Requests'})\n",
        "df_intime['Proportion']=((df_intime['Total of Requests']/total_rows)*100).round(2)\n",
        "df_intime"
      ],
      "execution_count": null,
      "outputs": [
        {
          "output_type": "execute_result",
          "data": {
            "text/html": [
              "<div>\n",
              "<style scoped>\n",
              "    .dataframe tbody tr th:only-of-type {\n",
              "        vertical-align: middle;\n",
              "    }\n",
              "\n",
              "    .dataframe tbody tr th {\n",
              "        vertical-align: top;\n",
              "    }\n",
              "\n",
              "    .dataframe thead th {\n",
              "        text-align: right;\n",
              "    }\n",
              "</style>\n",
              "<table border=\"1\" class=\"dataframe\">\n",
              "  <thead>\n",
              "    <tr style=\"text-align: right;\">\n",
              "      <th></th>\n",
              "      <th>Total of Requests</th>\n",
              "      <th>Proportion</th>\n",
              "    </tr>\n",
              "    <tr>\n",
              "      <th>In_Time</th>\n",
              "      <th></th>\n",
              "      <th></th>\n",
              "    </tr>\n",
              "  </thead>\n",
              "  <tbody>\n",
              "    <tr>\n",
              "      <th>No</th>\n",
              "      <td>8500</td>\n",
              "      <td>4.21</td>\n",
              "    </tr>\n",
              "    <tr>\n",
              "      <th>Yes</th>\n",
              "      <td>193203</td>\n",
              "      <td>95.79</td>\n",
              "    </tr>\n",
              "  </tbody>\n",
              "</table>\n",
              "</div>"
            ],
            "text/plain": [
              "         Total of Requests  Proportion\n",
              "In_Time                               \n",
              "No                    8500        4.21\n",
              "Yes                 193203       95.79"
            ]
          },
          "metadata": {
            "tags": []
          },
          "execution_count": 84
        }
      ]
    },
    {
      "cell_type": "code",
      "metadata": {
        "id": "52QX5zFmTNKS",
        "outputId": "55b8ee4a-f579-4345-e8a5-f7b40da94893",
        "colab": {
          "base_uri": "https://localhost:8080/",
          "height": 298
        }
      },
      "source": [
        "ax=sns.barplot(x=['No','Yes'],y=df_intime['Total of Requests'], color='darkcyan')\n",
        "ax.set_title('In Time Request')"
      ],
      "execution_count": null,
      "outputs": [
        {
          "output_type": "execute_result",
          "data": {
            "text/plain": [
              "Text(0.5, 1.0, 'In Time Request')"
            ]
          },
          "metadata": {
            "tags": []
          },
          "execution_count": 85
        },
        {
          "output_type": "display_data",
          "data": {
            "image/png": "[encoded data removed]",
            "text/plain": [
              "<Figure size 432x288 with 1 Axes>"
            ]
          },
          "metadata": {
            "tags": [],
            "needs_background": "light"
          }
        }
      ]
    },
    {
      "cell_type": "code",
      "metadata": {
        "id": "LirH_eKpf424"
      },
      "source": [
        ""
      ],
      "execution_count": null,
      "outputs": []
    }
  ]
}